{
 "cells": [
  {
   "cell_type": "code",
   "execution_count": 13,
   "metadata": {},
   "outputs": [
    {
     "data": {
      "text/html": [
       "<div>\n",
       "<style scoped>\n",
       "    .dataframe tbody tr th:only-of-type {\n",
       "        vertical-align: middle;\n",
       "    }\n",
       "\n",
       "    .dataframe tbody tr th {\n",
       "        vertical-align: top;\n",
       "    }\n",
       "\n",
       "    .dataframe thead th {\n",
       "        text-align: right;\n",
       "    }\n",
       "</style>\n",
       "<table border=\"1\" class=\"dataframe\">\n",
       "  <thead>\n",
       "    <tr style=\"text-align: right;\">\n",
       "      <th></th>\n",
       "      <th>X</th>\n",
       "      <th>Y</th>\n",
       "      <th>Z</th>\n",
       "    </tr>\n",
       "  </thead>\n",
       "  <tbody>\n",
       "    <tr>\n",
       "      <th>ID_0</th>\n",
       "      <td>6.964692</td>\n",
       "      <td>2.861393</td>\n",
       "      <td>2.268515</td>\n",
       "    </tr>\n",
       "    <tr>\n",
       "      <th>ID_1</th>\n",
       "      <td>5.513148</td>\n",
       "      <td>7.194690</td>\n",
       "      <td>4.231065</td>\n",
       "    </tr>\n",
       "    <tr>\n",
       "      <th>ID_2</th>\n",
       "      <td>9.807642</td>\n",
       "      <td>6.848297</td>\n",
       "      <td>4.809319</td>\n",
       "    </tr>\n",
       "    <tr>\n",
       "      <th>ID_3</th>\n",
       "      <td>3.921175</td>\n",
       "      <td>3.431780</td>\n",
       "      <td>7.290497</td>\n",
       "    </tr>\n",
       "    <tr>\n",
       "      <th>ID_4</th>\n",
       "      <td>4.385722</td>\n",
       "      <td>0.596779</td>\n",
       "      <td>3.980443</td>\n",
       "    </tr>\n",
       "    <tr>\n",
       "      <th>ID_5</th>\n",
       "      <td>7.379954</td>\n",
       "      <td>1.824917</td>\n",
       "      <td>1.754518</td>\n",
       "    </tr>\n",
       "  </tbody>\n",
       "</table>\n",
       "</div>"
      ],
      "text/plain": [
       "             X         Y         Z\n",
       "ID_0  6.964692  2.861393  2.268515\n",
       "ID_1  5.513148  7.194690  4.231065\n",
       "ID_2  9.807642  6.848297  4.809319\n",
       "ID_3  3.921175  3.431780  7.290497\n",
       "ID_4  4.385722  0.596779  3.980443\n",
       "ID_5  7.379954  1.824917  1.754518"
      ]
     },
     "execution_count": 13,
     "metadata": {},
     "output_type": "execute_result"
    }
   ],
   "source": [
    "import pandas as pd\n",
    "import numpy as np\n",
    "\n",
    "np.random.seed(123)\n",
    "\n",
    "variables = ['X', 'Y', 'Z']\n",
    "labels = ['ID_0', 'ID_1', 'ID_2', 'ID_3', 'ID_4', 'ID_5']\n",
    "\n",
    "X = np.random.random_sample([6,3])*10\n",
    "df = pd.DataFrame(X, columns=variables, index=labels)\n",
    "df"
   ]
  },
  {
   "cell_type": "code",
   "execution_count": 14,
   "metadata": {},
   "outputs": [
    {
     "data": {
      "text/html": [
       "<div>\n",
       "<style scoped>\n",
       "    .dataframe tbody tr th:only-of-type {\n",
       "        vertical-align: middle;\n",
       "    }\n",
       "\n",
       "    .dataframe tbody tr th {\n",
       "        vertical-align: top;\n",
       "    }\n",
       "\n",
       "    .dataframe thead th {\n",
       "        text-align: right;\n",
       "    }\n",
       "</style>\n",
       "<table border=\"1\" class=\"dataframe\">\n",
       "  <thead>\n",
       "    <tr style=\"text-align: right;\">\n",
       "      <th></th>\n",
       "      <th>ID_0</th>\n",
       "      <th>ID_1</th>\n",
       "      <th>ID_2</th>\n",
       "      <th>ID_3</th>\n",
       "      <th>ID_4</th>\n",
       "      <th>ID_5</th>\n",
       "    </tr>\n",
       "  </thead>\n",
       "  <tbody>\n",
       "    <tr>\n",
       "      <th>ID_0</th>\n",
       "      <td>0.000000</td>\n",
       "      <td>4.973534</td>\n",
       "      <td>5.516653</td>\n",
       "      <td>5.899885</td>\n",
       "      <td>3.835396</td>\n",
       "      <td>1.229194</td>\n",
       "    </tr>\n",
       "    <tr>\n",
       "      <th>ID_1</th>\n",
       "      <td>4.973534</td>\n",
       "      <td>0.000000</td>\n",
       "      <td>4.347073</td>\n",
       "      <td>5.104311</td>\n",
       "      <td>6.698233</td>\n",
       "      <td>6.201025</td>\n",
       "    </tr>\n",
       "    <tr>\n",
       "      <th>ID_2</th>\n",
       "      <td>5.516653</td>\n",
       "      <td>4.347073</td>\n",
       "      <td>0.000000</td>\n",
       "      <td>7.244262</td>\n",
       "      <td>8.316594</td>\n",
       "      <td>6.360804</td>\n",
       "    </tr>\n",
       "    <tr>\n",
       "      <th>ID_3</th>\n",
       "      <td>5.899885</td>\n",
       "      <td>5.104311</td>\n",
       "      <td>7.244262</td>\n",
       "      <td>0.000000</td>\n",
       "      <td>4.382864</td>\n",
       "      <td>6.722517</td>\n",
       "    </tr>\n",
       "    <tr>\n",
       "      <th>ID_4</th>\n",
       "      <td>3.835396</td>\n",
       "      <td>6.698233</td>\n",
       "      <td>8.316594</td>\n",
       "      <td>4.382864</td>\n",
       "      <td>0.000000</td>\n",
       "      <td>3.927912</td>\n",
       "    </tr>\n",
       "    <tr>\n",
       "      <th>ID_5</th>\n",
       "      <td>1.229194</td>\n",
       "      <td>6.201025</td>\n",
       "      <td>6.360804</td>\n",
       "      <td>6.722517</td>\n",
       "      <td>3.927912</td>\n",
       "      <td>0.000000</td>\n",
       "    </tr>\n",
       "  </tbody>\n",
       "</table>\n",
       "</div>"
      ],
      "text/plain": [
       "          ID_0      ID_1      ID_2      ID_3      ID_4      ID_5\n",
       "ID_0  0.000000  4.973534  5.516653  5.899885  3.835396  1.229194\n",
       "ID_1  4.973534  0.000000  4.347073  5.104311  6.698233  6.201025\n",
       "ID_2  5.516653  4.347073  0.000000  7.244262  8.316594  6.360804\n",
       "ID_3  5.899885  5.104311  7.244262  0.000000  4.382864  6.722517\n",
       "ID_4  3.835396  6.698233  8.316594  4.382864  0.000000  3.927912\n",
       "ID_5  1.229194  6.201025  6.360804  6.722517  3.927912  0.000000"
      ]
     },
     "execution_count": 14,
     "metadata": {},
     "output_type": "execute_result"
    }
   ],
   "source": [
    "from scipy.spatial.distance import pdist, squareform\n",
    "\n",
    "row_dist = pd.DataFrame(squareform(pdist(df, metric='euclidean')), columns=labels, index=labels)\n",
    "row_dist"
   ]
  },
  {
   "cell_type": "code",
   "execution_count": 15,
   "metadata": {},
   "outputs": [
    {
     "data": {
      "text/html": [
       "<div>\n",
       "<style scoped>\n",
       "    .dataframe tbody tr th:only-of-type {\n",
       "        vertical-align: middle;\n",
       "    }\n",
       "\n",
       "    .dataframe tbody tr th {\n",
       "        vertical-align: top;\n",
       "    }\n",
       "\n",
       "    .dataframe thead th {\n",
       "        text-align: right;\n",
       "    }\n",
       "</style>\n",
       "<table border=\"1\" class=\"dataframe\">\n",
       "  <thead>\n",
       "    <tr style=\"text-align: right;\">\n",
       "      <th></th>\n",
       "      <th>row label 1</th>\n",
       "      <th>row label 2</th>\n",
       "      <th>distance</th>\n",
       "      <th>no. of items in clust.</th>\n",
       "    </tr>\n",
       "  </thead>\n",
       "  <tbody>\n",
       "    <tr>\n",
       "      <th>cluster 1</th>\n",
       "      <td>0.0</td>\n",
       "      <td>5.0</td>\n",
       "      <td>1.229194</td>\n",
       "      <td>2.0</td>\n",
       "    </tr>\n",
       "    <tr>\n",
       "      <th>cluster 2</th>\n",
       "      <td>4.0</td>\n",
       "      <td>6.0</td>\n",
       "      <td>3.927912</td>\n",
       "      <td>3.0</td>\n",
       "    </tr>\n",
       "    <tr>\n",
       "      <th>cluster 3</th>\n",
       "      <td>1.0</td>\n",
       "      <td>2.0</td>\n",
       "      <td>4.347073</td>\n",
       "      <td>2.0</td>\n",
       "    </tr>\n",
       "    <tr>\n",
       "      <th>cluster 4</th>\n",
       "      <td>3.0</td>\n",
       "      <td>7.0</td>\n",
       "      <td>6.722517</td>\n",
       "      <td>4.0</td>\n",
       "    </tr>\n",
       "    <tr>\n",
       "      <th>cluster 5</th>\n",
       "      <td>8.0</td>\n",
       "      <td>9.0</td>\n",
       "      <td>8.316594</td>\n",
       "      <td>6.0</td>\n",
       "    </tr>\n",
       "  </tbody>\n",
       "</table>\n",
       "</div>"
      ],
      "text/plain": [
       "           row label 1  row label 2  distance  no. of items in clust.\n",
       "cluster 1          0.0          5.0  1.229194                     2.0\n",
       "cluster 2          4.0          6.0  3.927912                     3.0\n",
       "cluster 3          1.0          2.0  4.347073                     2.0\n",
       "cluster 4          3.0          7.0  6.722517                     4.0\n",
       "cluster 5          8.0          9.0  8.316594                     6.0"
      ]
     },
     "execution_count": 15,
     "metadata": {},
     "output_type": "execute_result"
    }
   ],
   "source": [
    "from scipy.cluster.hierarchy import linkage\n",
    "\n",
    "row_clusters = linkage(pdist(df, metric='euclidean'), method='complete')\n",
    "\n",
    "pd.DataFrame(row_clusters,\n",
    "             columns=['row label 1', 'row label 2', 'distance', 'no. of items in clust.'],\n",
    "             index=['cluster %d' %(i+1) for i in range(row_clusters.shape[0])]\n",
    "            )"
   ]
  },
  {
   "cell_type": "code",
   "execution_count": 16,
   "metadata": {},
   "outputs": [
    {
     "data": {
      "image/png": "[encoded data removed]",
      "text/plain": [
       "<Figure size 432x288 with 1 Axes>"
      ]
     },
     "metadata": {},
     "output_type": "display_data"
    }
   ],
   "source": [
    "from scipy.cluster.hierarchy import dendrogram\n",
    "import matplotlib.pyplot as plt\n",
    "\n",
    "row_dendr = dendrogram(row_clusters, labels=labels)\n",
    "\n",
    "plt.ylabel('Euclidean distance')\n",
    "plt.tight_layout()\n",
    "plt.show()"
   ]
  },
  {
   "cell_type": "code",
   "execution_count": 41,
   "metadata": {},
   "outputs": [
    {
     "data": {
      "image/png": "[encoded data removed]",
      "text/plain": [
       "<Figure size 576x576 with 3 Axes>"
      ]
     },
     "metadata": {},
     "output_type": "display_data"
    }
   ],
   "source": [
    "fig = plt.figure(figsize=(8, 8), facecolor='white')\n",
    "axd = fig.add_axes([0.09, 0.1, 0.2, 0.6])\n",
    "\n",
    "row_dendr = dendrogram(row_clusters, orientation='left')\n",
    "\n",
    "df_rowclust = df.iloc[row_dendr['leaves'][::-1]]\n",
    "axm = fig.add_axes([0.23, 0.1, 0.6, 0.6])\n",
    "cax = axm.matshow(df_rowclust, interpolation='nearest', cmap='hot_r')\n",
    "\n",
    "axd.set_xticks([])\n",
    "axd.set_yticks([])\n",
    "for i in axd.spines.values():\n",
    "    i.set_visible(False)\n",
    "\n",
    "fig.colorbar(cax)\n",
    "axm.set_xticklabels([''] + list(df_rowclust.columns))\n",
    "axm.set_yticklabels([''] + list(df_rowclust.index))\n",
    "plt.show()"
   ]
  },
  {
   "cell_type": "code",
   "execution_count": 42,
   "metadata": {},
   "outputs": [
    {
     "name": "stdout",
     "output_type": "stream",
     "text": [
      "Cluster labels: [1 0 0 2 1 1]\n"
     ]
    }
   ],
   "source": [
    "from sklearn.cluster import AgglomerativeClustering\n",
    "ac = AgglomerativeClustering(n_clusters=3, affinity='euclidean', linkage='complete')\n",
    "labels = ac.fit_predict(X)\n",
    "\n",
    "print('Cluster labels: %s' % labels)"
   ]
  }
 ],
 "metadata": {
  "kernelspec": {
   "display_name": "Python 3",
   "language": "python",
   "name": "python3"
  },
  "language_info": {
   "codemirror_mode": {
    "name": "ipython",
    "version": 3
   },
   "file_extension": ".py",
   "mimetype": "text/x-python",
   "name": "python",
   "nbconvert_exporter": "python",
   "pygments_lexer": "ipython3",
   "version": "3.6.6"
  }
 },
 "nbformat": 4,
 "nbformat_minor": 2
}
