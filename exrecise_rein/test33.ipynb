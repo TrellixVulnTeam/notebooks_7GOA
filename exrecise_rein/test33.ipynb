{
 "cells": [
  {
   "cell_type": "code",
   "execution_count": 8,
   "metadata": {},
   "outputs": [
    {
     "name": "stdout",
     "output_type": "stream",
     "text": [
      "\u001b[33mWARN: gym.spaces.Box autodetected dtype as <class 'numpy.float32'>. Please provide explicit dtype.\u001b[0m\n"
     ]
    },
    {
     "data": {
      "text/plain": [
       "array([ 0.04602665, -0.01467548, -0.01662815, -0.03434327])"
      ]
     },
     "execution_count": 8,
     "metadata": {},
     "output_type": "execute_result"
    }
   ],
   "source": [
    "import numpy as np\n",
    "import matplotlib.pyplot as plt\n",
    "%matplotlib inline\n",
    "import gym\n",
    "\n",
    "ENV = 'CartPole-v0'\n",
    "NUM_DIZITIZED =6\n",
    "\n",
    "env = gym.make(ENV)\n",
    "observation = env.reset()\n",
    "\n",
    "observation"
   ]
  },
  {
   "cell_type": "code",
   "execution_count": 5,
   "metadata": {},
   "outputs": [
    {
     "data": {
      "text/plain": [
       "array([-1.6, -0.8,  0. ,  0.8,  1.6])"
      ]
     },
     "execution_count": 5,
     "metadata": {},
     "output_type": "execute_result"
    }
   ],
   "source": [
    "def bins(clip_min, clip_max, num):\n",
    "    \n",
    "    return np.linspace(clip_min, clip_max, num+1)[1:-1]\n",
    "\n",
    "bins(-2.4, 2.4, 6)"
   ]
  },
  {
   "cell_type": "code",
   "execution_count": 26,
   "metadata": {},
   "outputs": [
    {
     "name": "stdout",
     "output_type": "stream",
     "text": [
      "[array(3, dtype=int64), array(2, dtype=int64), array(2, dtype=int64), array(2, dtype=int64)]\n",
      "519\n",
      "i = 0, state = 519\n",
      "2\n",
      "i = 1, state = 87\n",
      "2\n",
      "i = 2, state = 15\n",
      "2\n",
      "i = 3, state = 3\n",
      "3\n",
      "2 2 2 3\n"
     ]
    }
   ],
   "source": [
    "def digitize_state(observation):\n",
    "    \n",
    "    cart_pos, cart_v, pole_angle, pole_v = observation\n",
    "    digitized = [\n",
    "        np.digitize(cart_pos, bins=bins(-2.4, 2.4, NUM_DIZITIZED)),\n",
    "        np.digitize(cart_v, bins=bins(-3.0, 3.0, NUM_DIZITIZED)),\n",
    "        np.digitize(pole_angle, bins=bins(-0.5, 0.5, NUM_DIZITIZED)),#0.5radian=29degree\n",
    "        np.digitize(pole_v, bins=bins(-2.0, 2.0, NUM_DIZITIZED)),        \n",
    "    ]\n",
    "    print(digitized)\n",
    "    print(digitized[0] + digitized[1]*6 + digitized[2]*6*6 + digitized[3]*6*6*6)\n",
    "    \n",
    "    return sum([x*(NUM_DIZITIZED**i) for i,x in enumerate(digitized)])\n",
    "\n",
    "\n",
    "def decode_digitize_state(state, var_num, base_num):\n",
    "    \n",
    "    state_0 = []\n",
    "    for i in range(var_num):\n",
    "        print(\"i = {0}, state = {1}\".format(i,state))\n",
    "        x = state//(base_num**(var_num-1-i))\n",
    "        print(x)\n",
    "        state_0.append(x)\n",
    "        state = state - x*(base_num**(var_num-1-i))\n",
    "    \n",
    "    return state_0\n",
    "\n",
    "state = digitize_state(observation)\n",
    "cart_pos, cart_v, pole_angle, pole_v =decode_digitize_state(state, 4, NUM_DIZITIZED)\n",
    "print(cart_pos, cart_v, pole_angle, pole_v)"
   ]
  }
 ],
 "metadata": {
  "kernelspec": {
   "display_name": "Python 3",
   "language": "python",
   "name": "python3"
  },
  "language_info": {
   "codemirror_mode": {
    "name": "ipython",
    "version": 3
   },
   "file_extension": ".py",
   "mimetype": "text/x-python",
   "name": "python",
   "nbconvert_exporter": "python",
   "pygments_lexer": "ipython3",
   "version": "3.6.6"
  }
 },
 "nbformat": 4,
 "nbformat_minor": 2
}
