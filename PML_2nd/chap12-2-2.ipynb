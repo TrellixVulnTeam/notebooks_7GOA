{
 "cells": [
  {
   "cell_type": "code",
   "execution_count": 11,
   "metadata": {},
   "outputs": [],
   "source": [
    "import numpy as np\n",
    "import sys\n",
    "\n",
    "class NeuralNetMLP(object):\n",
    "    \n",
    "    \"\"\"\n",
    "    [Parameter]\n",
    "     seed：乱数シード\n",
    "     n_hidden：隠れユニットの個数\n",
    "     l2：L2正規化のパラメータ\n",
    "     epochs：トレーニングの試行回数\n",
    "     eta：学習率\n",
    "     shuffle：トレーニングごとにデータをシャッフルするかどうか\n",
    "     minibatch_size：ミニバッチあたりのサンプル数\n",
    "    \n",
    "    \"\"\"\n",
    "    \n",
    "    def __init__(self, n_hidden=30, l2=0.0, epochs=100, eta=0.001, shuffle=True, minibatch_size=1, seed=None):\n",
    "        \n",
    "        self.random = np.random.RandomState(seed)\n",
    "        self.n_hidden = n_hidden # d\n",
    "        self.l2 = l2\n",
    "        self.epochs = epochs\n",
    "        self.eta = eta\n",
    "        self.shuffle = shuffle\n",
    "        self.minibatch_size = minibatch_size\n",
    "        \n",
    "    def fit(self, X_train, y_train, X_valid, y_valid):\n",
    "        \n",
    "        n_output = np.unique(y_train).shape[0] #ラベル数:t=10\n",
    "        n_features = X_train.shape[1] #Xの特徴量:m = 28×28 =784\n",
    "        \n",
    "        #隠れ層の定数\n",
    "        self.b_h = np.zeros(self.n_hidden) #30×1\n",
    "        #入力層から隠れ層への変換\n",
    "        self.w_h = self.random.normal(loc=0.0, scale=0.1, size=(n_features, self.n_hidden)) # m×d (784×30)\n",
    "        #出力層の定数\n",
    "        self.b_out = np.zeros(n_output) #10×1\n",
    "        #隠れ層から出力層への変換\n",
    "        self.w_out = self.random.normal(loc=0.0, scale=0.1, size=(self.n_hidden, n_output)) # d×t(30×10)\n",
    "        \n",
    "        epoch_strlen = len(str(self.epochs))\n",
    "        self.eval_ = {'cost':[], 'train_acc':[], 'valid_acc':[]}\n",
    "        \n",
    "        y_train_enc = self._onehot(y_train, n_output) #(y_train, 10) ⇒ 60000×10\n",
    "        \n",
    "        for i in  range(self.epochs):\n",
    "            \n",
    "            indices = np.arange(X_train.shape[0]) # [0, 1, 2, ・・・, 59999]\n",
    "            \n",
    "            if self.shuffle:\n",
    "                self.random.shuffle(indices)\n",
    "            \n",
    "            for start_idx in range(0, indices.shape[0] - self.minibatch_size + 1, self.minibatch_size):\n",
    "            #0,100, 200, ・・・, 59800, 59900   \n",
    "                batch_idx = indices[start_idx: start_idx + self.minibatch_size]\n",
    "                #[0,1,2,・・・,100], [101,102,・・・,200], ・・・,[59900,599001,・・・,59999]\n",
    "                \n",
    "                #フォワードプロパゲーション\n",
    "                z_h, a_h, z_out, a_out = self._forward(X_train[batch_idx])\n",
    "                \n",
    "                #バックプロパゲーション\n",
    "                sigma_out = a_out - y_train_enc[batch_idx] # δout\n",
    "                \n",
    "                sigmoid_derivative_h = a_h * (1.0 - a_h) # dφ(z)/dz = ah(1-ah)\n",
    "                \n",
    "                sigma_h = (np.dot(sigma_out, self.w_out.T) * sigmoid_derivative_h) # δh = δout * W *(dφ(z)/dz)\n",
    "                \n",
    "                #Δwh = δh * Ain + λWh\n",
    "                grad_w_h = np.dot(X_train[batch_idx].T, sigma_h)\n",
    "                grad_b_h = np.sum(sigma_h, axis=0)\n",
    "\n",
    "                delta_w_h = (grad_w_h + self.l2*self.w_h)\n",
    "                delta_b_h = grad_b_h\n",
    "                self.w_h -= self.eta*delta_w_h\n",
    "                self.b_h -= self.eta*delta_b_h\n",
    "                \n",
    "                #Δwout = δout * Ah + λWout\n",
    "                grad_w_out = np.dot(a_h.T, sigma_out)\n",
    "                grad_b_out = np.sum(sigma_out, axis=0)\n",
    "                \n",
    "                delta_w_out = (grad_w_out + self.l2*self.w_out)\n",
    "                delta_b_out = grad_b_out\n",
    "                self.w_out -= self.eta*delta_w_out\n",
    "                self.b_out -= self.eta*delta_b_out\n",
    "                \n",
    "            z_h, a_h, z_out, a_out = self._forward(X_train)\n",
    "            \n",
    "            cost = self._compute_cost(y_enc=y_train_enc, output=a_out)\n",
    "            \n",
    "            y_train_pred = self.predict(X_train)\n",
    "            y_valid_pred = self.predict(X_valid)\n",
    "            \n",
    "            train_acc = ((np.sum(y_train == y_train_pred)).astype(np.float) / X_train.shape[0])\n",
    "            valid_acc = ((np.sum(y_valid == y_valid_pred)).astype(np.float) / X_valid.shape[0])\n",
    "            \n",
    "            sys.stderr.write('\\r%0*d/%d | Cost: %.2f '\n",
    "                             '| Train/Valid Acc.: %.2f%%/%.2f%%'\n",
    "                             % (epoch_strlen, i+1, self.epochs, cost, train_acc*100, valid_acc*100))\n",
    "            sys.stderr.flush()\n",
    "            \n",
    "            self.eval_['cost'].append(cost)\n",
    "            self.eval_['train_acc'].append(train_acc)\n",
    "            self.eval_['valid_acc'].append(valid_acc)\n",
    "            \n",
    "        return self\n",
    "            \n",
    "    def predict(self, X):\n",
    "        \n",
    "        z_h, a_h, z_out, a_out = self._forward(X)\n",
    "        y_pred = np.argmax(z_out, axis=1)\n",
    "        \n",
    "        return y_pred\n",
    "        \n",
    "        \n",
    "    def _onehot(self, y, n_classes):\n",
    "        \n",
    "        onehot = np.zeros((n_classes, y.shape[0])) #((10, 600000))\n",
    "        for idx, val in enumerate(y.astype(int)):\n",
    "            onehot[val, idx] = 1.0\n",
    "        \n",
    "        return onehot.T # (60000, 10)\n",
    "    \n",
    "    \n",
    "    def _forward(self, X):\n",
    "        \n",
    "        #隠れ層 X(60000)×30\n",
    "        z_h = np.dot(X, self.w_h) + self.b_h\n",
    "        \n",
    "        #隠れ層出力 X(60000)×30\n",
    "        a_h = self._sigmoid(z_h)\n",
    "        \n",
    "        #出力層 X(60000)×10\n",
    "        z_out = np.dot(a_h, self.w_out) + self.b_out\n",
    "        \n",
    "        #出力層出力 X(60000)×10\n",
    "        a_out = self._sigmoid(z_out)\n",
    "        \n",
    "        return z_h, a_h, z_out, a_out\n",
    "        \n",
    "               \n",
    "    def _sigmoid(self, z):\n",
    "        \n",
    "        return 1.0 / (1.0 + np.exp(-np.clip(z, 250, 250)))\n",
    "    \n",
    "    \n",
    "    def _compute_cost(self, y_enc, output):\n",
    "        \n",
    "        L2_term = (self.l2 * ( np.sum(self.w_h **2.0) + np.sum(self.w_out **2.0) ))\n",
    "        term1 = -y_enc * (np.log(output + 1e-5))\n",
    "        term2 = (1.0 - y_enc) * np.log(1.0 - output + 1e-5)\n",
    "        cost = np.sum(term1 -term2) + L2_term\n",
    "        \n",
    "        return cost\n",
    "        "
   ]
  },
  {
   "cell_type": "code",
   "execution_count": 12,
   "metadata": {},
   "outputs": [],
   "source": [
    "import numpy as np\n",
    "\n",
    "mnist = np.load('mnist_scales.npz')\n",
    "X_train, y_train, X_test, y_test = [mnist[f] for f in mnist.files]"
   ]
  },
  {
   "cell_type": "code",
   "execution_count": 48,
   "metadata": {},
   "outputs": [],
   "source": [
    "import pandas as pd\n",
    "\n",
    "indices = np.arange(X_train.shape[0])\n",
    "minibatch_size=100\n",
    "\n",
    "for start_idx in range(0, indices.shape[0] - minibatch_size + 1, minibatch_size):\n",
    "#     print(start_idx)\n",
    "    batch_idx = indices[start_idx: start_idx + minibatch_size]\n",
    "#     print(batch_idx)"
   ]
  },
  {
   "cell_type": "code",
   "execution_count": null,
   "metadata": {},
   "outputs": [
    {
     "name": "stderr",
     "output_type": "stream",
     "text": [
      "079/100 | Cost: 36586113.60 | Train/Valid Acc.: 11.29%/10.60%"
     ]
    }
   ],
   "source": [
    "n_epochs=100\n",
    "nn = NeuralNetMLP(n_hidden=100, l2=0.01, epochs=n_epochs, eta=0.0005, minibatch_size=100, shuffle=True, seed=1)\n",
    "nn.fit(X_train=X_train[:55000], y_train=y_train[:55000], X_valid=X_train[55000:], y_valid=y_train[55000:])\n"
   ]
  },
  {
   "cell_type": "code",
   "execution_count": null,
   "metadata": {},
   "outputs": [],
   "source": [
    "import matplotlib.pyplot as plt\n",
    "\n",
    "plt.plot(range(nn.epochs), nn.eval_['cost'])\n",
    "plt.ylabel('cost')\n",
    "plt.xlabel('Epochs')\n",
    "plt.show()"
   ]
  },
  {
   "cell_type": "code",
   "execution_count": 32,
   "metadata": {},
   "outputs": [
    {
     "data": {
      "image/png": "[encoded data removed]",
      "text/plain": [
       "<Figure size 432x288 with 1 Axes>"
      ]
     },
     "metadata": {},
     "output_type": "display_data"
    }
   ],
   "source": [
    "plt.plot(range(nn.epochs), nn.eval_['train_acc'], label='training')\n",
    "plt.plot(range(nn.epochs), nn.eval_['valid_acc'], label='validation', linestyle='--')\n",
    "plt.ylabel('Accuracy')\n",
    "plt.xlabel('Epochs')\n",
    "plt.show()"
   ]
  },
  {
   "cell_type": "code",
   "execution_count": 33,
   "metadata": {},
   "outputs": [
    {
     "name": "stdout",
     "output_type": "stream",
     "text": [
      "Test accuracy: 97.16%\n"
     ]
    }
   ],
   "source": [
    "y_test_pred = nn.predict(X_test)\n",
    "acc = (np.sum(y_test == y_test_pred).astype(np.float)/X_test.shape[0])\n",
    "print('Test accuracy: %.2f%%' % (acc*100))"
   ]
  },
  {
   "cell_type": "code",
   "execution_count": 34,
   "metadata": {},
   "outputs": [
    {
     "data": {
      "image/png": "[encoded data removed]",
      "text/plain": [
       "<Figure size 432x288 with 25 Axes>"
      ]
     },
     "metadata": {},
     "output_type": "display_data"
    }
   ],
   "source": [
    "miscl_img = X_test[y_test != y_test_pred][:25]\n",
    "correct_lab = y_test[y_test != y_test_pred][:25]\n",
    "miscl_lab = y_test_pred[y_test != y_test_pred][:25]\n",
    "\n",
    "fig, ax = plt.subplots(nrows=5, ncols=5, sharex=True, sharey=True)\n",
    "ax =ax.flatten()\n",
    "for i in range(25):\n",
    "    img = miscl_img[i].reshape(28,28)\n",
    "    ax[i].imshow(img, cmap='Greys', interpolation='nearest')\n",
    "    ax[i].set_title('%d) t: %d p: %d' % (i+1, correct_lab[i], miscl_lab[i]))\n",
    "    \n",
    "ax[0].set_xticks([])\n",
    "ax[0].set_yticks([])\n",
    "plt.tight_layout()\n",
    "plt.show()"
   ]
  }
 ],
 "metadata": {
  "kernelspec": {
   "display_name": "Python 3",
   "language": "python",
   "name": "python3"
  },
  "language_info": {
   "codemirror_mode": {
    "name": "ipython",
    "version": 3
   },
   "file_extension": ".py",
   "mimetype": "text/x-python",
   "name": "python",
   "nbconvert_exporter": "python",
   "pygments_lexer": "ipython3",
   "version": "3.6.6"
  }
 },
 "nbformat": 4,
 "nbformat_minor": 2
}
