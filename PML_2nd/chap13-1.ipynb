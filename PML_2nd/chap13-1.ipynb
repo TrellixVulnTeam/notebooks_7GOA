{
 "cells": [
  {
   "cell_type": "code",
   "execution_count": 8,
   "metadata": {},
   "outputs": [
    {
     "name": "stdout",
     "output_type": "stream",
     "text": [
      "x= 1.0 --> z= 2.7\n",
      "x= 0.6 --> z= 1.9\n",
      "x=-1.8 --> z=-2.9\n"
     ]
    }
   ],
   "source": [
    "import tensorflow as tf\n",
    "\n",
    "g = tf.Graph()\n",
    "\n",
    "with g.as_default():\n",
    "    \n",
    "    x = tf.placeholder(dtype=tf.float32, shape=(None), name='x')\n",
    "    w = tf.Variable(2.0, name='weight')\n",
    "    b = tf.Variable(0.7, name='bias')\n",
    "    z = w * x + b\n",
    "    init = tf.global_variables_initializer()\n",
    "    \n",
    "with tf.Session(graph=g) as session:\n",
    "    \n",
    "    session.run(init)\n",
    "    for t in [1.0, 0.6, -1.8]:\n",
    "        print('x=%4.1f --> z=%4.1f' % (t, session.run(z, feed_dict={x:t})))\n",
    "    \n",
    "    #print(session.run(z, feed_dict={x:[1.0, 2.0, 3.0]}))\n"
   ]
  },
  {
   "cell_type": "code",
   "execution_count": 21,
   "metadata": {},
   "outputs": [
    {
     "name": "stdout",
     "output_type": "stream",
     "text": [
      "Tensor(\"input_x:0\", shape=(?, 2, 3), dtype=float32)\n",
      "Tensor(\"x2:0\", shape=(?, 6), dtype=float32)\n",
      "Tensor(\"col_sum:0\", shape=(6,), dtype=float32)\n",
      "Tensor(\"col_mean:0\", shape=(6,), dtype=float32)\n",
      "\n",
      "\n",
      "input shape:  (3, 2, 3)\n",
      "Reshape:\n",
      " [[ 0.  1.  2.  3.  4.  5.]\n",
      " [ 6.  7.  8.  9. 10. 11.]\n",
      " [12. 13. 14. 15. 16. 17.]]\n",
      "Column Sums:\n",
      " [18. 21. 24. 27. 30. 33.]\n",
      "Column Means:\n",
      " [ 6.  7.  8.  9. 10. 11.]\n"
     ]
    }
   ],
   "source": [
    "import tensorflow as tf\n",
    "import numpy as np\n",
    "\n",
    "g = tf.Graph()\n",
    "\n",
    "with g.as_default():\n",
    "    \n",
    "    x = tf.placeholder(dtype=tf.float32, shape=(None, 2, 3), name='input_x')\n",
    "    x2 = tf.reshape(x, shape=(-1, 6), name='x2')\n",
    "    print(x)\n",
    "    print(x2)\n",
    "    xsum = tf.reduce_sum(x2, axis=0, name='col_sum')\n",
    "    xmean = tf.reduce_mean(x2, axis=0, name='col_mean')\n",
    "    print(xsum)\n",
    "    print(xmean)\n",
    "    print('\\n')\n",
    "    \n",
    "with tf.Session(graph=g) as session:\n",
    "    \n",
    "    x_array = np.arange(18).reshape(3,2,3)\n",
    "    print('input shape: ', x_array.shape)\n",
    "    print('Reshape:\\n', session.run(x2, feed_dict={x:x_array}))\n",
    "    print('Column Sums:\\n', session.run(xsum, feed_dict={x:x_array}))\n",
    "    print('Column Means:\\n', session.run(xmean, feed_dict={x:x_array}))\n",
    "    "
   ]
  },
  {
   "cell_type": "code",
   "execution_count": 15,
   "metadata": {},
   "outputs": [
    {
     "data": {
      "text/plain": [
       "array([[[ 0,  1,  2],\n",
       "        [ 3,  4,  5]],\n",
       "\n",
       "       [[ 6,  7,  8],\n",
       "        [ 9, 10, 11]],\n",
       "\n",
       "       [[12, 13, 14],\n",
       "        [15, 16, 17]]])"
      ]
     },
     "execution_count": 15,
     "metadata": {},
     "output_type": "execute_result"
    }
   ],
   "source": [
    "np.arange(18).reshape(3,2,3)"
   ]
  }
 ],
 "metadata": {
  "kernelspec": {
   "display_name": "Python 3",
   "language": "python",
   "name": "python3"
  },
  "language_info": {
   "codemirror_mode": {
    "name": "ipython",
    "version": 3
   },
   "file_extension": ".py",
   "mimetype": "text/x-python",
   "name": "python",
   "nbconvert_exporter": "python",
   "pygments_lexer": "ipython3",
   "version": "3.6.6"
  }
 },
 "nbformat": 4,
 "nbformat_minor": 2
}
