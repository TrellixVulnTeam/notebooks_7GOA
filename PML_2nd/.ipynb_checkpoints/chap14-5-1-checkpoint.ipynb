{
 "cells": [
  {
   "cell_type": "code",
   "execution_count": 37,
   "metadata": {},
   "outputs": [
    {
     "name": "stdout",
     "output_type": "stream",
     "text": [
      "Shape: () (4,) (2, 2) (2, 2, 3)\n",
      "Ranks: 0 1 2 3\n"
     ]
    }
   ],
   "source": [
    "import tensorflow as tf\n",
    "import numpy as np\n",
    "\n",
    "g = tf.Graph()\n",
    "\n",
    "with g.as_default():\n",
    "    \n",
    "    t1 = tf.constant(np.pi)\n",
    "    t2 = tf.constant([1,2,3,4])\n",
    "    t3 = tf.constant([[1,2], [3,4]])\n",
    "    t4 = tf.constant([[[1,2, 3], [3,4,5]],[[5,6, 7], [7,8,9]]])\n",
    "#     print('Constant:', t1, t2, t3)\n",
    "    \n",
    "    r1 = tf.rank(t1)\n",
    "    r2 = tf.rank(t2)\n",
    "    r3 = tf.rank(t3)\n",
    "    r4 = tf.rank(t4)\n",
    "#     print('Rank:', r1, r2, r3, r4)\n",
    "    \n",
    "    s1 = t1.get_shape()\n",
    "    s2 = t2.get_shape()\n",
    "    s3 = t3.get_shape()\n",
    "    s4 = t4.get_shape()\n",
    "    print('Shape:', s1, s2, s3, s4)\n",
    "\n",
    "with tf.Session(graph=g) as session:\n",
    "    \n",
    "    print('Ranks:', r1.eval(), r2.eval(), r3.eval(), r4.eval())\n",
    "    "
   ]
  },
  {
   "cell_type": "code",
   "execution_count": 38,
   "metadata": {},
   "outputs": [
    {
     "name": "stdout",
     "output_type": "stream",
     "text": [
      "2 * (a-b) +c => 1\n"
     ]
    }
   ],
   "source": [
    "\n",
    "g = tf.Graph()\n",
    "\n",
    "with g.as_default():\n",
    "    \n",
    "    a = tf.constant(1, name='a')\n",
    "    b = tf.constant(2, name='b')\n",
    "    c = tf.constant(3, name='c')\n",
    "    \n",
    "    z = 2 * (a-b) +c\n",
    "\n",
    "with tf.Session(graph=g) as session:\n",
    "    \n",
    "    print('2 * (a-b) +c =>', session.run(z))"
   ]
  },
  {
   "cell_type": "code",
   "execution_count": 48,
   "metadata": {},
   "outputs": [
    {
     "name": "stdout",
     "output_type": "stream",
     "text": [
      "z: 1\n"
     ]
    }
   ],
   "source": [
    "import tensorflow as tf\n",
    "\n",
    "g = tf.Graph()\n",
    "\n",
    "with g.as_default():\n",
    "    \n",
    "    tf_a = tf.placeholder(tf.int32, shape=[], name='tf_a')\n",
    "    tf_b = tf.placeholder(tf.int32, shape=[], name='tf_b')\n",
    "    tf_c = tf.placeholder(tf.int32, shape=[], name='tf_c')\n",
    "    \n",
    "    r1 = tf_a - tf_b\n",
    "    r2 = 2 * r1\n",
    "    \n",
    "    z = r2 + tf_c\n",
    "    \n",
    "    \n",
    "with tf.Session(graph=g) as session:\n",
    "    \n",
    "    feed = {tf_a:1, tf_b:2, tf_c:3}\n",
    "    print('z:', session.run(z, feed_dict=feed))"
   ]
  },
  {
   "cell_type": "code",
   "execution_count": 51,
   "metadata": {},
   "outputs": [
    {
     "name": "stdout",
     "output_type": "stream",
     "text": [
      "r1: -1\n",
      "r2: -2\n",
      "r1: -2\n",
      "r2: -4\n"
     ]
    }
   ],
   "source": [
    "with tf.Session(graph=g) as session:\n",
    "    \n",
    "    feed = {tf_a:1, tf_b:2}\n",
    "    print('r1:', session.run(r1, feed_dict=feed))\n",
    "    print('r2:', session.run(r2, feed_dict=feed))\n",
    "    \n",
    "    feed = {tf_a:2, tf_b:4, tf_c:3}\n",
    "    print('r1:', session.run(r1, feed_dict=feed))\n",
    "    print('r2:', session.run(r2, feed_dict=feed))\n",
    "    "
   ]
  },
  {
   "cell_type": "code",
   "execution_count": 52,
   "metadata": {},
   "outputs": [
    {
     "name": "stdout",
     "output_type": "stream",
     "text": [
      "Feeding data with shape \n",
      " [[0.7  0.29]\n",
      " [0.23 0.55]\n",
      " [0.72 0.42]\n",
      " [0.98 0.68]\n",
      " [0.48 0.39]]\n",
      "Result: [0.62 0.47]\n",
      "Feeding data with shape \n",
      " [[0.34 0.73]\n",
      " [0.44 0.06]\n",
      " [0.4  0.74]\n",
      " [0.18 0.18]\n",
      " [0.53 0.53]\n",
      " [0.63 0.85]\n",
      " [0.72 0.61]\n",
      " [0.72 0.32]\n",
      " [0.36 0.23]\n",
      " [0.29 0.63]]\n",
      "Result: [0.46 0.49]\n"
     ]
    }
   ],
   "source": [
    "import tensorflow as tf\n",
    "import numpy as np\n",
    "\n",
    "np.random.seed(123)\n",
    "np.set_printoptions(precision=2)\n",
    "\n",
    "g = tf.Graph()\n",
    "\n",
    "with g.as_default():\n",
    "    \n",
    "    tf_x = tf.placeholder(tf.float32, shape=[None, 2], name='tf_x')\n",
    "    x_mean = tf.reduce_mean(tf_x, axis=0, name='mean')\n",
    "    \n",
    "    \n",
    "with tf.Session(graph=g) as session:\n",
    "    \n",
    "    x1 = np.random.uniform(low=0, high=1, size=(5,2))\n",
    "    print('Feeding data with shape \\n', x1)\n",
    "    print('Result:', session.run(x_mean, feed_dict={tf_x:x1}))\n",
    "    \n",
    "    x2 = np.random.uniform(low=0, high=1, size=(10,2))\n",
    "    print('Feeding data with shape \\n', x2)\n",
    "    print('Result:', session.run(x_mean, feed_dict={tf_x:x2}))\n",
    "    "
   ]
  },
  {
   "cell_type": "code",
   "execution_count": 53,
   "metadata": {},
   "outputs": [
    {
     "name": "stdout",
     "output_type": "stream",
     "text": [
      "<tf.Variable 'w:0' shape=(2, 4) dtype=int32_ref>\n",
      "[[1 2 3 4]\n",
      " [5 6 7 8]]\n"
     ]
    }
   ],
   "source": [
    "import tensorflow as tf\n",
    "import numpy as np\n",
    "\n",
    "g1 = tf.Graph()\n",
    "\n",
    "with g1.as_default():\n",
    "    \n",
    "    w = tf.Variable(np.array([[1,2,3,4], [5,6,7,8]]), name='w')\n",
    "    print(w)\n",
    "\n",
    "with tf.Session(graph=g1) as session:\n",
    "    \n",
    "    session.run(tf.global_variables_initializer())\n",
    "    print(session.run(w))"
   ]
  },
  {
   "cell_type": "code",
   "execution_count": 59,
   "metadata": {},
   "outputs": [],
   "source": [
    "import tensorflow as tf\n",
    "\n",
    "g2 = tf.Graph()\n",
    "\n",
    "with g2.as_default():\n",
    "    \n",
    "    w1 = tf.Variable(1, name='w1')\n",
    "    init_op1 = tf.global_variables_initializer()\n",
    "    \n",
    "    w2 = tf.Variable(2, name='w2')\n",
    "    init_op2 = tf.global_variables_initializer()\n"
   ]
  },
  {
   "cell_type": "code",
   "execution_count": 60,
   "metadata": {},
   "outputs": [
    {
     "name": "stdout",
     "output_type": "stream",
     "text": [
      "1\n",
      "2\n"
     ]
    }
   ],
   "source": [
    "with tf.Session(graph=g2) as session:\n",
    "    \n",
    "    session.run(init_op1)\n",
    "    print(session.run(w1))\n",
    "    \n",
    "    session.run(init_op2)\n",
    "    print(session.run(w2))\n",
    "    "
   ]
  },
  {
   "cell_type": "code",
   "execution_count": 62,
   "metadata": {},
   "outputs": [
    {
     "name": "stdout",
     "output_type": "stream",
     "text": [
      "<tf.Variable 'net_A/layer-1/weights:0' shape=(10, 4) dtype=float32_ref>\n",
      "<tf.Variable 'net_A/layer-2/weights:0' shape=(10, 4) dtype=float32_ref>\n",
      "<tf.Variable 'net_B/layer-1/weights:0' shape=(10, 4) dtype=float32_ref>\n"
     ]
    }
   ],
   "source": [
    "import tensorflow as tf\n",
    "\n",
    "g = tf.Graph()\n",
    "\n",
    "with g.as_default():\n",
    "    with tf.variable_scope('net_A'):\n",
    "        with tf.variable_scope('layer-1'):\n",
    "            w1 = tf.Variable(tf.random_normal(shape=(10,4)), name='weights')\n",
    "        with tf.variable_scope('layer-2'):\n",
    "            w2 = tf.Variable(tf.random_normal(shape=(10,4)), name='weights')\n",
    "    with tf.variable_scope('net_B'):\n",
    "        with tf.variable_scope('layer-1'):\n",
    "            w3 = tf.Variable(tf.random_normal(shape=(10,4)), name='weights')\n",
    "    \n",
    "    print(w1)\n",
    "    print(w2)\n",
    "    print(w3)"
   ]
  },
  {
   "cell_type": "code",
   "execution_count": null,
   "metadata": {},
   "outputs": [],
   "source": []
  }
 ],
 "metadata": {
  "kernelspec": {
   "display_name": "Python 3",
   "language": "python",
   "name": "python3"
  },
  "language_info": {
   "codemirror_mode": {
    "name": "ipython",
    "version": 3
   },
   "file_extension": ".py",
   "mimetype": "text/x-python",
   "name": "python",
   "nbconvert_exporter": "python",
   "pygments_lexer": "ipython3",
   "version": "3.6.6"
  }
 },
 "nbformat": 4,
 "nbformat_minor": 2
}
