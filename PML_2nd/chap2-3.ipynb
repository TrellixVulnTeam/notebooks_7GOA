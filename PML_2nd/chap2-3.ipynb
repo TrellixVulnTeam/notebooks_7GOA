{
 "cells": [
  {
   "cell_type": "code",
   "execution_count": 137,
   "metadata": {},
   "outputs": [],
   "source": [
    "import numpy as np\n",
    "\n",
    "class Perceptron(object):\n",
    "    \"\"\"\n",
    "    [Parameter]\n",
    "    eta : float 学習率\n",
    "    n_iter : int トレーニング回数\n",
    "    random_state : 重み初期化の乱数シード\n",
    "    \n",
    "    [data]\n",
    "    w_ : array(1)  重み\n",
    "    errors_ : list 各エポックの誤分類の数\n",
    "    \"\"\"\n",
    "    \n",
    "    def __init__(self, eta=0.01, n_iter=50, random_state=1):\n",
    "        self.eta = eta\n",
    "        self.n_iter = n_iter\n",
    "        self.random_state = random_state\n",
    "    \n",
    "    def fit(self, X, y):\n",
    "        \"\"\"\n",
    "        [Parameter]\n",
    "        X : DataFrame サンプルデータ shape[0]=column(a number of samples), shape[1]=raw(a number of features) \n",
    "        y : array 目的変数データ\n",
    "        \n",
    "        [return]\n",
    "        \n",
    "        \"\"\"\n",
    "        rgen = np.random.RandomState(self.random_state)\n",
    "        self.w_ = rgen.normal(loc=0.0, scale=0.01, size=1+X.shape[1])\n",
    "        self.errors_ = []\n",
    "        \n",
    "        for _ in range(self.n_iter):\n",
    "            errors = 0\n",
    "            \n",
    "            for xi, target in zip(X,y):\n",
    "                update = self.eta*(target - self.predict(xi))\n",
    "                self.w_[1:] += update*xi\n",
    "                self.w_[0] +=update\n",
    "                errors += int(update != 0.0)\n",
    "                #print(errors)\n",
    "            \n",
    "            self.errors_.append(errors)\n",
    "            \n",
    "            #print(\" \")\n",
    "        \n",
    "                                    \n",
    "        return self\n",
    "    \n",
    "    def net_input(self, xi):\n",
    "        return np.dot(xi, self.w_[1:])+self.w_[0]\n",
    "    \n",
    "    def predict(self, xi):\n",
    "        return np.where(self.net_input(xi) >=0.0, 1, -1)\n",
    "    "
   ]
  },
  {
   "cell_type": "code",
   "execution_count": 138,
   "metadata": {},
   "outputs": [],
   "source": [
    "# import numpy as np\n",
    "\n",
    "# random_state=1\n",
    "# rgen = np.random.RandomState(random_state)\n",
    "# a=rgen.normal(loc=0.0, scale=0.01, size=1+5)\n",
    "# #a[1:] += 2\n",
    "# a[1:]\n"
   ]
  },
  {
   "cell_type": "code",
   "execution_count": 139,
   "metadata": {},
   "outputs": [],
   "source": [
    "import pandas as pd\n",
    "\n",
    "df = pd.read_csv('./python-machine-learning-book-2nd-edition-master/code/ch02/iris.data', header=None)\n",
    "#  df = pd.read_csv('https://archive.ics.uci.edu/ml/'\n",
    "#                   'machine-learning-databases/iris/iris.data', header=None)\n",
    "\n",
    "#df.tail()\n",
    "\n",
    "# df.shape[1]"
   ]
  },
  {
   "cell_type": "code",
   "execution_count": 140,
   "metadata": {},
   "outputs": [
    {
     "data": {
      "image/png": "[encoded data removed]",
      "text/plain": [
       "<Figure size 432x288 with 1 Axes>"
      ]
     },
     "metadata": {},
     "output_type": "display_data"
    }
   ],
   "source": [
    "import matplotlib.pyplot as plt\n",
    "import numpy as np\n",
    "\n",
    "y = df.iloc[0:100, 4].values\n",
    "y = np.where(y=='Iris-setosa', -1, 1)\n",
    "\n",
    "X = df.iloc[0:100, [0,2]].values\n",
    "\n",
    "plt.scatter(X[:50,0], X[:50,1], color='red', marker='o', label='setosa')\n",
    "plt.scatter(X[51:100,0], X[51:100,1], color='blue', marker='x', label='versicolor')\n",
    "\n",
    "plt.xlabel('sepal length [cm]')\n",
    "plt.ylabel('petal length [cm]')\n",
    "\n",
    "plt.legend(loc='upper left')\n",
    "\n",
    "plt.show()"
   ]
  },
  {
   "cell_type": "code",
   "execution_count": 151,
   "metadata": {},
   "outputs": [
    {
     "data": {
      "image/png": "[encoded data removed]",
      "text/plain": [
       "<Figure size 432x288 with 1 Axes>"
      ]
     },
     "metadata": {},
     "output_type": "display_data"
    }
   ],
   "source": [
    "ppn = Perceptron(eta=0.01, n_iter=30)\n",
    "\n",
    "ppn.fit(X,y)\n",
    "\n",
    "plt.plot(range(1, len(ppn.errors_)+1), ppn.errors_, marker='o')\n",
    "\n",
    "plt.xlabel('Epochs')\n",
    "plt.ylabel('Number of mistake')\n",
    "\n",
    "plt.show()"
   ]
  },
  {
   "cell_type": "code",
   "execution_count": 152,
   "metadata": {},
   "outputs": [],
   "source": [
    "from matplotlib.colors import ListedColormap\n",
    "\n",
    "def plot_decision_regions(X, y, classifier, resolution=0.02):\n",
    "    \n",
    "    markers = ('s', 'x', 'o', '^', 'v')\n",
    "    colors = ('red', 'blue', 'lightgreen', 'gray', 'cyan')\n",
    "    cmap = ListedColormap(colors[:len(np.unique(y))])\n",
    "    \n",
    "    x1_min, x1_max = X[:,0].min() -1, X[:,0].max() +1 \n",
    "    x2_min, x2_max = X[:,1].min() -1, X[:,1].max() +1 \n",
    "    \n",
    "    xx1, xx2 = np.meshgrid(np.arange(x1_min, x1_max, resolution), np.arange(x2_min, x2_max, resolution))\n",
    "    \n",
    "    Z = classifier.predict(np.array([xx1.ravel(), xx2.ravel()]).T)\n",
    "    \n",
    "    Z = Z.reshape(xx1.shape)\n",
    "    \n",
    "    plt.contourf(xx1, xx2, Z, alpha=0.3, cmap=cmap)\n",
    "    \n",
    "    plt.xlim(xx1.min(), xx1.max())\n",
    "    plt.ylim(xx2.min(), xx2.max())\n",
    "    \n",
    "    for idx, cl in enumerate(np.unique(y)):\n",
    "        plt.scatter(x=X[y==cl, 0], y=X[y==cl, 1], alpha=0.8, c=colors[idx], label=cl, edgecolor='black')\n",
    "    "
   ]
  },
  {
   "cell_type": "code",
   "execution_count": 153,
   "metadata": {},
   "outputs": [],
   "source": [
    "# #テスト用\n",
    "# from matplotlib.colors import ListedColormap\n",
    "# import numpy as np \n",
    "\n",
    "# resolution=0.02\n",
    "\n",
    "# markers = ('s', 'x', 'o', '^', 'v')\n",
    "# colors = ('red', 'blue', 'lightgreen', 'gray', 'cyan')\n",
    "# cmap = ListedColormap(colors[:len(np.unique(y))])\n",
    "    \n",
    "# x1_min, x1_max = X[:,0].min() -1, X[:,0].max() +1 \n",
    "# x2_min, x2_max = X[:,1].min() -1, X[:,1].max() +1 \n",
    "    \n",
    "# xx1, xx2 = np.meshgrid(np.arange(x1_min, x1_max, resolution), np.arange(x2_min, x2_max, resolution))\n",
    "# D = np.array([xx1.ravel(), xx2.ravel()])\n",
    "# xx11 =xx1.reshape(xx1.shape)\n",
    "# print(\"xx1 =\", xx1)\n",
    "# print(\"\")\n",
    "# print(\"xx1.ravel() =\", xx1.ravel())\n",
    "# print(\"\")\n",
    "# print(\"xx2 =\", xx2)\n",
    "# print(\"\")\n",
    "# print(\"xx2.ravel() =\", xx2.ravel())\n",
    "# print(\"\")\n",
    "# print(\"D=\", D)\n",
    "# print(\"\")\n",
    "# print(\"xx11=\", xx11)\n",
    "# print(\"\")"
   ]
  },
  {
   "cell_type": "code",
   "execution_count": 154,
   "metadata": {
    "scrolled": true
   },
   "outputs": [
    {
     "data": {
      "image/png": "[encoded data removed]",
      "text/plain": [
       "<Figure size 432x288 with 1 Axes>"
      ]
     },
     "metadata": {},
     "output_type": "display_data"
    }
   ],
   "source": [
    "plot_decision_regions(X, y, classifier=ppn)\n",
    "\n",
    "plt.xlabel('sepal length [cm]')\n",
    "plt.ylabel('petal length [cm]')\n",
    "\n",
    "plt.legend(loc='upper left')\n",
    "\n",
    "plt.show()"
   ]
  },
  {
   "cell_type": "code",
   "execution_count": null,
   "metadata": {},
   "outputs": [],
   "source": []
  }
 ],
 "metadata": {
  "kernelspec": {
   "display_name": "Python 3",
   "language": "python",
   "name": "python3"
  },
  "language_info": {
   "codemirror_mode": {
    "name": "ipython",
    "version": 3
   },
   "file_extension": ".py",
   "mimetype": "text/x-python",
   "name": "python",
   "nbconvert_exporter": "python",
   "pygments_lexer": "ipython3",
   "version": "3.6.6"
  }
 },
 "nbformat": 4,
 "nbformat_minor": 2
}
